{
 "cells": [
  {
   "cell_type": "code",
   "execution_count": 1,
   "id": "48abfbc9-8379-4530-98b1-fecc67b6ea36",
   "metadata": {},
   "outputs": [],
   "source": [
    "import matplotlib.pyplot as plt\n",
    "import pandas as pd\n",
    "import seaborn as sns\n",
    "import requests\n",
    "from bs4 import BeautifulSoup\n",
    "import numpy as np"
   ]
  },
  {
   "cell_type": "code",
   "execution_count": 2,
   "id": "7166ed58-d505-4fe9-9d2a-381d9a0f4f6c",
   "metadata": {},
   "outputs": [],
   "source": [
    "page = requests.get(\"https://en.wikipedia.org/wiki/List_of_countries_by_irrigated_land_area\")"
   ]
  },
  {
   "cell_type": "code",
   "execution_count": 3,
   "id": "45586580-889e-4a94-a2c3-6b52d8434c78",
   "metadata": {},
   "outputs": [],
   "source": [
    "soup = BeautifulSoup(page.content, 'html.parser')"
   ]
  },
  {
   "cell_type": "code",
   "execution_count": 4,
   "id": "08a8bd90-2d18-4e8a-99a9-65d3abcb0988",
   "metadata": {},
   "outputs": [],
   "source": [
    "table = soup.find_all('table', class_=\"wikitable sortable static-row-numbers sort-under\")[0]"
   ]
  },
  {
   "cell_type": "code",
   "execution_count": 5,
   "id": "e91d82eb-5ded-4a47-973a-7f17952789f2",
   "metadata": {},
   "outputs": [],
   "source": [
    "data = []\n",
    "for info in table.find_all_next('tr'):\n",
    "    items = info.text.split('\\n')\n",
    "    items_filtered = list(filter(lambda item: item != \"\", items))\n",
    "    if len(items_filtered) < 2:\n",
    "        break\n",
    "    items_filtered = items_filtered[0:2]\n",
    "    items_filtered[0] = items_filtered[0].replace('\\xa0', '')\n",
    "    items_filtered[1] = items_filtered[1].replace(',', '')\n",
    "    data.append(items_filtered)"
   ]
  },
  {
   "cell_type": "code",
   "execution_count": 6,
   "id": "6651ce91-9e7f-48db-a508-fa2c79ac8434",
   "metadata": {},
   "outputs": [
    {
     "data": {
      "text/plain": [
       "['Country/Territory/Region', 'Irrigated land (km2)']"
      ]
     },
     "execution_count": 7,
     "metadata": {},
     "output_type": "execute_result"
    }
   ],
   "source": [
    "head = data[0]\n",
    "head"
   ]
  },
  {
   "cell_type": "code",
   "execution_count": 8,
   "id": "1596c496-6a5e-445a-9a61-2306f3c6e42f",
   "metadata": {},
   "outputs": [],
   "source": [
    "for item in data[1:]:\n",
    "    try:\n",
    "        item[1] = float(item[1])\n",
    "    except:\n",
    "        item[1] = np.nan"
   ]
  },
  {
   "cell_type": "code",
   "execution_count": 9,
   "id": "a8eb9dd0-cad8-473c-87f7-1aff44730165",
   "metadata": {},
   "outputs": [],
   "source": [
    "df = pd.DataFrame(data[1:], columns=head)"
   ]
  },
  {
   "cell_type": "code",
   "execution_count": 10,
   "id": "3a747482-2bc2-495e-8f46-f64cca835d63",
   "metadata": {},
   "outputs": [
    {
     "data": {
      "text/html": [
       "<div>\n",
       "<style scoped>\n",
       "    .dataframe tbody tr th:only-of-type {\n",
       "        vertical-align: middle;\n",
       "    }\n",
       "\n",
       "    .dataframe tbody tr th {\n",
       "        vertical-align: top;\n",
       "    }\n",
       "\n",
       "    .dataframe thead th {\n",
       "        text-align: right;\n",
       "    }\n",
       "</style>\n",
       "<table border=\"1\" class=\"dataframe\">\n",
       "  <thead>\n",
       "    <tr style=\"text-align: right;\">\n",
       "      <th></th>\n",
       "      <th>Country/Territory/Region</th>\n",
       "      <th>Irrigated land (km2)</th>\n",
       "    </tr>\n",
       "  </thead>\n",
       "  <tbody>\n",
       "    <tr>\n",
       "      <th>0</th>\n",
       "      <td>World</td>\n",
       "      <td>3242917.0</td>\n",
       "    </tr>\n",
       "    <tr>\n",
       "      <th>1</th>\n",
       "      <td>Afghanistan</td>\n",
       "      <td>24930.0</td>\n",
       "    </tr>\n",
       "    <tr>\n",
       "      <th>2</th>\n",
       "      <td>Albania</td>\n",
       "      <td>1820.0</td>\n",
       "    </tr>\n",
       "    <tr>\n",
       "      <th>3</th>\n",
       "      <td>Algeria</td>\n",
       "      <td>12605.0</td>\n",
       "    </tr>\n",
       "    <tr>\n",
       "      <th>4</th>\n",
       "      <td>American Samoa</td>\n",
       "      <td>0.0</td>\n",
       "    </tr>\n",
       "    <tr>\n",
       "      <th>...</th>\n",
       "      <td>...</td>\n",
       "      <td>...</td>\n",
       "    </tr>\n",
       "    <tr>\n",
       "      <th>230</th>\n",
       "      <td>Wallis and Futuna</td>\n",
       "      <td>0.6</td>\n",
       "    </tr>\n",
       "    <tr>\n",
       "      <th>231</th>\n",
       "      <td>West Bank and Gaza Strip</td>\n",
       "      <td>151.0</td>\n",
       "    </tr>\n",
       "    <tr>\n",
       "      <th>232</th>\n",
       "      <td>Yemen</td>\n",
       "      <td>6800.0</td>\n",
       "    </tr>\n",
       "    <tr>\n",
       "      <th>233</th>\n",
       "      <td>Zambia</td>\n",
       "      <td>1560.0</td>\n",
       "    </tr>\n",
       "    <tr>\n",
       "      <th>234</th>\n",
       "      <td>Zimbabwe</td>\n",
       "      <td>1740.0</td>\n",
       "    </tr>\n",
       "  </tbody>\n",
       "</table>\n",
       "<p>235 rows × 2 columns</p>\n",
       "</div>"
      ],
      "text/plain": [
       "     Country/Territory/Region  Irrigated land (km2)\n",
       "0                       World             3242917.0\n",
       "1                 Afghanistan               24930.0\n",
       "2                     Albania                1820.0\n",
       "3                     Algeria               12605.0\n",
       "4              American Samoa                   0.0\n",
       "..                        ...                   ...\n",
       "230         Wallis and Futuna                   0.6\n",
       "231  West Bank and Gaza Strip                 151.0\n",
       "232                     Yemen                6800.0\n",
       "233                    Zambia                1560.0\n",
       "234                  Zimbabwe                1740.0\n",
       "\n",
       "[235 rows x 2 columns]"
      ]
     },
     "execution_count": 11,
     "metadata": {},
     "output_type": "execute_result"
    }
   ],
   "source": [
    "df"
   ]
  },
  {
   "cell_type": "code",
   "execution_count": 12,
   "id": "76b99042-24be-4c7f-8254-b913c90e1134",
   "metadata": {},
   "outputs": [],
   "source": [
    "filtered_df = df[df[\"Irrigated land (km2)\"].isna() == False].copy()"
   ]
  },
  {
   "cell_type": "code",
   "execution_count": 13,
   "id": "25fdc1ec-c0f1-47f9-8621-2e755ff8511f",
   "metadata": {},
   "outputs": [],
   "source": [
    "filtered_df[\"% of World\"] = 100*filtered_df[\"Irrigated land (km2)\"]/filtered_df.iloc[0,1]"
   ]
  },
  {
   "cell_type": "code",
   "execution_count": 14,
   "id": "761c8695-8bdc-4cf9-84b0-98c4c8030a12",
   "metadata": {},
   "outputs": [
    {
     "data": {
      "text/html": [
       "<div>\n",
       "<style scoped>\n",
       "    .dataframe tbody tr th:only-of-type {\n",
       "        vertical-align: middle;\n",
       "    }\n",
       "\n",
       "    .dataframe tbody tr th {\n",
       "        vertical-align: top;\n",
       "    }\n",
       "\n",
       "    .dataframe thead th {\n",
       "        text-align: right;\n",
       "    }\n",
       "</style>\n",
       "<table border=\"1\" class=\"dataframe\">\n",
       "  <thead>\n",
       "    <tr style=\"text-align: right;\">\n",
       "      <th></th>\n",
       "      <th>Country/Territory/Region</th>\n",
       "      <th>Irrigated land (km2)</th>\n",
       "      <th>% of World</th>\n",
       "    </tr>\n",
       "  </thead>\n",
       "  <tbody>\n",
       "    <tr>\n",
       "      <th>0</th>\n",
       "      <td>World</td>\n",
       "      <td>3242917.0</td>\n",
       "      <td>100.000000</td>\n",
       "    </tr>\n",
       "    <tr>\n",
       "      <th>1</th>\n",
       "      <td>Afghanistan</td>\n",
       "      <td>24930.0</td>\n",
       "      <td>0.768752</td>\n",
       "    </tr>\n",
       "    <tr>\n",
       "      <th>2</th>\n",
       "      <td>Albania</td>\n",
       "      <td>1820.0</td>\n",
       "      <td>0.056122</td>\n",
       "    </tr>\n",
       "    <tr>\n",
       "      <th>3</th>\n",
       "      <td>Algeria</td>\n",
       "      <td>12605.0</td>\n",
       "      <td>0.388693</td>\n",
       "    </tr>\n",
       "    <tr>\n",
       "      <th>4</th>\n",
       "      <td>American Samoa</td>\n",
       "      <td>0.0</td>\n",
       "      <td>0.000000</td>\n",
       "    </tr>\n",
       "    <tr>\n",
       "      <th>...</th>\n",
       "      <td>...</td>\n",
       "      <td>...</td>\n",
       "      <td>...</td>\n",
       "    </tr>\n",
       "    <tr>\n",
       "      <th>230</th>\n",
       "      <td>Wallis and Futuna</td>\n",
       "      <td>0.6</td>\n",
       "      <td>0.000019</td>\n",
       "    </tr>\n",
       "    <tr>\n",
       "      <th>231</th>\n",
       "      <td>West Bank and Gaza Strip</td>\n",
       "      <td>151.0</td>\n",
       "      <td>0.004656</td>\n",
       "    </tr>\n",
       "    <tr>\n",
       "      <th>232</th>\n",
       "      <td>Yemen</td>\n",
       "      <td>6800.0</td>\n",
       "      <td>0.209688</td>\n",
       "    </tr>\n",
       "    <tr>\n",
       "      <th>233</th>\n",
       "      <td>Zambia</td>\n",
       "      <td>1560.0</td>\n",
       "      <td>0.048105</td>\n",
       "    </tr>\n",
       "    <tr>\n",
       "      <th>234</th>\n",
       "      <td>Zimbabwe</td>\n",
       "      <td>1740.0</td>\n",
       "      <td>0.053655</td>\n",
       "    </tr>\n",
       "  </tbody>\n",
       "</table>\n",
       "<p>219 rows × 3 columns</p>\n",
       "</div>"
      ],
      "text/plain": [
       "     Country/Territory/Region  Irrigated land (km2)  % of World\n",
       "0                       World             3242917.0  100.000000\n",
       "1                 Afghanistan               24930.0    0.768752\n",
       "2                     Albania                1820.0    0.056122\n",
       "3                     Algeria               12605.0    0.388693\n",
       "4              American Samoa                   0.0    0.000000\n",
       "..                        ...                   ...         ...\n",
       "230         Wallis and Futuna                   0.6    0.000019\n",
       "231  West Bank and Gaza Strip                 151.0    0.004656\n",
       "232                     Yemen                6800.0    0.209688\n",
       "233                    Zambia                1560.0    0.048105\n",
       "234                  Zimbabwe                1740.0    0.053655\n",
       "\n",
       "[219 rows x 3 columns]"
      ]
     },
     "execution_count": 15,
     "metadata": {},
     "output_type": "execute_result"
    }
   ],
   "source": [
    "filtered_df"
   ]
  },
  {
   "cell_type": "code",
   "execution_count": 16,
   "id": "a0961033-5f50-4b05-8cce-7799a343e899",
   "metadata": {},
   "outputs": [],
   "source": [
    "sorted_df = filtered_df.sort_values(by=[\"% of World\"], ascending=False) "
   ]
  },
  {
   "cell_type": "code",
   "execution_count": 17,
   "id": "1cc6e500-857f-4bf4-ad75-134184b7184b",
   "metadata": {},
   "outputs": [
    {
     "data": {
      "text/plain": [
       "<Axes: xlabel='Country/Territory/Region', ylabel='Irrigated land (km2)'>"
      ]
     },
     "execution_count": 18,
     "metadata": {},
     "output_type": "execute_result"
    },
    {
     "data": {
      "image/png": "[encoded data removed]",
      "text/plain": [
       "<Figure size 1200x700 with 1 Axes>"
      ]
     },
     "metadata": {},
     "output_type": "display_data"
    }
   ],
   "source": [
    "fig, ax = plt.subplots(figsize=(12,7))\n",
    "plt.xticks(rotation=30)\n",
    "plt.ticklabel_format(style='plain')\n",
    "sns.barplot(sorted_df[sorted_df[\"% of World\"] > 1.0], x=\"Country/Territory/Region\", y=\"Irrigated land (km2)\")"
   ]
  },
  {
   "cell_type": "code",
   "execution_count": null,
   "id": "fdb61fec-6ba0-4234-88cd-b41cb0b0196e",
   "metadata": {},
   "outputs": [],
   "source": []
  }
 ],
 "metadata": {
  "kernelspec": {
   "display_name": "Python 3 (ipykernel)",
   "language": "python",
   "name": "python3"
  },
  "language_info": {
   "codemirror_mode": {
    "name": "ipython",
    "version": 3
   },
   "file_extension": ".py",
   "mimetype": "text/x-python",
   "name": "python",
   "nbconvert_exporter": "python",
   "pygments_lexer": "ipython3",
   "version": "3.11.6"
  }
 },
 "nbformat": 4,
 "nbformat_minor": 5
}
