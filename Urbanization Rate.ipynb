{
 "cells": [
  {
   "cell_type": "code",
   "execution_count": 1,
   "id": "a72e3017-a7c0-419e-86da-db5f58942a90",
   "metadata": {},
   "outputs": [],
   "source": [
    "import matplotlib.pyplot as plt\n",
    "import numpy as np\n",
    "import seaborn as sns\n",
    "import pandas as pd\n",
    "import requests\n",
    "from bs4 import BeautifulSoup"
   ]
  },
  {
   "cell_type": "code",
   "execution_count": 2,
   "id": "69ff69ba-01ee-4aa7-acd2-cb02bcd6971f",
   "metadata": {},
   "outputs": [],
   "source": [
    "class WebScraper():\n",
    "    def __init__(self):\n",
    "        self.soup = BeautifulSoup(requests.get(\"https://en.wikipedia.org/wiki/Urbanization_by_sovereign_state\").content, 'html.parser')\n",
    "    def extract_data(self):\n",
    "        table = self.soup.find('table', class_= \"wikitable sortable mw-datatable static-row-numbers col2right\")\n",
    "        data = []\n",
    "        for info in table.find_all_next('tr'):\n",
    "            items = info.text.split('\\n')\n",
    "            items_filtered = list(filter(lambda item: item != \"\", items))\n",
    "            if len(items_filtered) != 4:\n",
    "                break\n",
    "            items_filtered = items_filtered[0:3]\n",
    "            items_filtered[0] = items_filtered[0].replace('\\xa0', '')\n",
    "            items_filtered[1] = items_filtered[1].replace(',', '')\n",
    "            data.append(items_filtered)\n",
    "        for item in data[1:]:\n",
    "            for i in range(1,3):\n",
    "                try:\n",
    "                    item[i] = int(item[i]) if i == 1 else float(item[i])\n",
    "                except:\n",
    "                    item[i] = np.nan\n",
    "                    \n",
    "        return data[0], data[1:]"
   ]
  },
  {
   "cell_type": "code",
   "execution_count": 3,
   "id": "60d2e901-d87f-4e21-b578-395aa07a1810",
   "metadata": {},
   "outputs": [],
   "source": [
    "scraper = WebScraper()"
   ]
  },
  {
   "cell_type": "code",
   "execution_count": 4,
   "id": "6a7601b3-b2cb-45fa-aad0-b42d2aaecc18",
   "metadata": {},
   "outputs": [],
   "source": [
    "head, data = scraper.extract_data()"
   ]
  },
  {
   "cell_type": "code",
   "execution_count": 5,
   "id": "d95b2e78-48b0-4896-993d-0f773d03cf1f",
   "metadata": {},
   "outputs": [
    {
     "data": {
      "text/html": [
       "<div>\n",
       "<style scoped>\n",
       "    .dataframe tbody tr th:only-of-type {\n",
       "        vertical-align: middle;\n",
       "    }\n",
       "\n",
       "    .dataframe tbody tr th {\n",
       "        vertical-align: top;\n",
       "    }\n",
       "\n",
       "    .dataframe thead th {\n",
       "        text-align: right;\n",
       "    }\n",
       "</style>\n",
       "<table border=\"1\" class=\"dataframe\">\n",
       "  <thead>\n",
       "    <tr style=\"text-align: right;\">\n",
       "      <th></th>\n",
       "      <th>Country or territory</th>\n",
       "      <th>Urban population</th>\n",
       "      <th>% of total population</th>\n",
       "    </tr>\n",
       "  </thead>\n",
       "  <tbody>\n",
       "    <tr>\n",
       "      <th>0</th>\n",
       "      <td>Kuwait</td>\n",
       "      <td>4268870.0</td>\n",
       "      <td>100.0</td>\n",
       "    </tr>\n",
       "    <tr>\n",
       "      <th>1</th>\n",
       "      <td>Monaco</td>\n",
       "      <td>36470.0</td>\n",
       "      <td>100.0</td>\n",
       "    </tr>\n",
       "    <tr>\n",
       "      <th>2</th>\n",
       "      <td>Nauru</td>\n",
       "      <td>12670.0</td>\n",
       "      <td>100.0</td>\n",
       "    </tr>\n",
       "    <tr>\n",
       "      <th>3</th>\n",
       "      <td>Singapore</td>\n",
       "      <td>5637020.0</td>\n",
       "      <td>100.0</td>\n",
       "    </tr>\n",
       "    <tr>\n",
       "      <th>4</th>\n",
       "      <td>Vatican City</td>\n",
       "      <td>NaN</td>\n",
       "      <td>100.0</td>\n",
       "    </tr>\n",
       "    <tr>\n",
       "      <th>...</th>\n",
       "      <td>...</td>\n",
       "      <td>...</td>\n",
       "      <td>...</td>\n",
       "    </tr>\n",
       "    <tr>\n",
       "      <th>223</th>\n",
       "      <td>Liechtenstein</td>\n",
       "      <td>5720.0</td>\n",
       "      <td>14.6</td>\n",
       "    </tr>\n",
       "    <tr>\n",
       "      <th>224</th>\n",
       "      <td>Papua New Guinea</td>\n",
       "      <td>1377570.0</td>\n",
       "      <td>13.7</td>\n",
       "    </tr>\n",
       "    <tr>\n",
       "      <th>225</th>\n",
       "      <td>Montserrat (UK)</td>\n",
       "      <td>NaN</td>\n",
       "      <td>9.3</td>\n",
       "    </tr>\n",
       "    <tr>\n",
       "      <th>226</th>\n",
       "      <td>Tokelau (New Zealand)</td>\n",
       "      <td>NaN</td>\n",
       "      <td>0.0</td>\n",
       "    </tr>\n",
       "    <tr>\n",
       "      <th>227</th>\n",
       "      <td>Wallis and Futuna (France)</td>\n",
       "      <td>NaN</td>\n",
       "      <td>0.0</td>\n",
       "    </tr>\n",
       "  </tbody>\n",
       "</table>\n",
       "<p>228 rows × 3 columns</p>\n",
       "</div>"
      ],
      "text/plain": [
       "           Country or territory  Urban population  % of total population\n",
       "0                        Kuwait         4268870.0                  100.0\n",
       "1                        Monaco           36470.0                  100.0\n",
       "2                         Nauru           12670.0                  100.0\n",
       "3                     Singapore         5637020.0                  100.0\n",
       "4                  Vatican City               NaN                  100.0\n",
       "..                          ...               ...                    ...\n",
       "223               Liechtenstein            5720.0                   14.6\n",
       "224            Papua New Guinea         1377570.0                   13.7\n",
       "225             Montserrat (UK)               NaN                    9.3\n",
       "226       Tokelau (New Zealand)               NaN                    0.0\n",
       "227  Wallis and Futuna (France)               NaN                    0.0\n",
       "\n",
       "[228 rows x 3 columns]"
      ]
     },
     "execution_count": 5,
     "metadata": {},
     "output_type": "execute_result"
    }
   ],
   "source": [
    "df = pd.DataFrame(data, columns=list(map(lambda string: string.split('  (')[0], head)))\n",
    "df"
   ]
  },
  {
   "cell_type": "code",
   "execution_count": 6,
   "id": "4ef75013-13fa-4661-86fc-074e0b5d12dd",
   "metadata": {},
   "outputs": [
    {
     "name": "stderr",
     "output_type": "stream",
     "text": [
      "C:\\Users\\javan\\AppData\\Local\\Temp\\ipykernel_9624\\2228897074.py:1: UserWarning: Boolean Series key will be reindexed to match DataFrame index.\n",
      "  filtered_df = df[df[\"Urban population\"].isna() == False][df[\"% of total population\"].isna() == False].copy()\n"
     ]
    }
   ],
   "source": [
    "filtered_df = df[df[\"Urban population\"].isna() == False][df[\"% of total population\"].isna() == False].copy()"
   ]
  },
  {
   "cell_type": "code",
   "execution_count": 7,
   "id": "22cd933c-0669-4517-8ea4-8721094666df",
   "metadata": {},
   "outputs": [
    {
     "data": {
      "text/html": [
       "<div>\n",
       "<style scoped>\n",
       "    .dataframe tbody tr th:only-of-type {\n",
       "        vertical-align: middle;\n",
       "    }\n",
       "\n",
       "    .dataframe tbody tr th {\n",
       "        vertical-align: top;\n",
       "    }\n",
       "\n",
       "    .dataframe thead th {\n",
       "        text-align: right;\n",
       "    }\n",
       "</style>\n",
       "<table border=\"1\" class=\"dataframe\">\n",
       "  <thead>\n",
       "    <tr style=\"text-align: right;\">\n",
       "      <th></th>\n",
       "      <th>Country or territory</th>\n",
       "      <th>Urban population</th>\n",
       "      <th>% of total population</th>\n",
       "    </tr>\n",
       "  </thead>\n",
       "  <tbody>\n",
       "    <tr>\n",
       "      <th>0</th>\n",
       "      <td>Kuwait</td>\n",
       "      <td>4268870.0</td>\n",
       "      <td>100.0</td>\n",
       "    </tr>\n",
       "    <tr>\n",
       "      <th>1</th>\n",
       "      <td>Monaco</td>\n",
       "      <td>36470.0</td>\n",
       "      <td>100.0</td>\n",
       "    </tr>\n",
       "    <tr>\n",
       "      <th>2</th>\n",
       "      <td>Nauru</td>\n",
       "      <td>12670.0</td>\n",
       "      <td>100.0</td>\n",
       "    </tr>\n",
       "    <tr>\n",
       "      <th>3</th>\n",
       "      <td>Singapore</td>\n",
       "      <td>5637020.0</td>\n",
       "      <td>100.0</td>\n",
       "    </tr>\n",
       "    <tr>\n",
       "      <th>6</th>\n",
       "      <td>Bermuda (UK)</td>\n",
       "      <td>63530.0</td>\n",
       "      <td>100.0</td>\n",
       "    </tr>\n",
       "    <tr>\n",
       "      <th>...</th>\n",
       "      <td>...</td>\n",
       "      <td>...</td>\n",
       "      <td>...</td>\n",
       "    </tr>\n",
       "    <tr>\n",
       "      <th>220</th>\n",
       "      <td>Samoa</td>\n",
       "      <td>39170.0</td>\n",
       "      <td>17.5</td>\n",
       "    </tr>\n",
       "    <tr>\n",
       "      <th>221</th>\n",
       "      <td>Niger</td>\n",
       "      <td>4427580.0</td>\n",
       "      <td>17.1</td>\n",
       "    </tr>\n",
       "    <tr>\n",
       "      <th>222</th>\n",
       "      <td>Burundi</td>\n",
       "      <td>1858290.0</td>\n",
       "      <td>14.8</td>\n",
       "    </tr>\n",
       "    <tr>\n",
       "      <th>223</th>\n",
       "      <td>Liechtenstein</td>\n",
       "      <td>5720.0</td>\n",
       "      <td>14.6</td>\n",
       "    </tr>\n",
       "    <tr>\n",
       "      <th>224</th>\n",
       "      <td>Papua New Guinea</td>\n",
       "      <td>1377570.0</td>\n",
       "      <td>13.7</td>\n",
       "    </tr>\n",
       "  </tbody>\n",
       "</table>\n",
       "<p>215 rows × 3 columns</p>\n",
       "</div>"
      ],
      "text/plain": [
       "    Country or territory  Urban population  % of total population\n",
       "0                 Kuwait         4268870.0                  100.0\n",
       "1                 Monaco           36470.0                  100.0\n",
       "2                  Nauru           12670.0                  100.0\n",
       "3              Singapore         5637020.0                  100.0\n",
       "6           Bermuda (UK)           63530.0                  100.0\n",
       "..                   ...               ...                    ...\n",
       "220                Samoa           39170.0                   17.5\n",
       "221                Niger         4427580.0                   17.1\n",
       "222              Burundi         1858290.0                   14.8\n",
       "223        Liechtenstein            5720.0                   14.6\n",
       "224     Papua New Guinea         1377570.0                   13.7\n",
       "\n",
       "[215 rows x 3 columns]"
      ]
     },
     "execution_count": 7,
     "metadata": {},
     "output_type": "execute_result"
    }
   ],
   "source": [
    "filtered_df"
   ]
  },
  {
   "cell_type": "code",
   "execution_count": 10,
   "id": "4f105e99-26f9-4a34-8ec0-63c3da37c89e",
   "metadata": {},
   "outputs": [
    {
     "name": "stderr",
     "output_type": "stream",
     "text": [
      "C:\\Users\\javan\\AppData\\Local\\Temp\\ipykernel_9624\\585390819.py:4: UserWarning: Boolean Series key will be reindexed to match DataFrame index.\n",
      "  sns.barplot(filtered_df[filtered_df[\"% of total population\"] > 80.0][filtered_df[\"% of total population\"] < 85.0]\n"
     ]
    },
    {
     "data": {
      "text/plain": [
       "<Axes: xlabel='Country or territory', ylabel='Urban population'>"
      ]
     },
     "execution_count": 10,
     "metadata": {},
     "output_type": "execute_result"
    },
    {
     "data": {
      "image/png": "[encoded data removed]",
      "text/plain": [
       "<Figure size 1300x700 with 1 Axes>"
      ]
     },
     "metadata": {},
     "output_type": "display_data"
    }
   ],
   "source": [
    "fig, ax = plt.subplots(figsize=(13,7))\n",
    "plt.xticks(rotation=30)\n",
    "plt.ticklabel_format(style='plain')\n",
    "sns.barplot(filtered_df[filtered_df[\"% of total population\"] > 80.0][filtered_df[\"% of total population\"] < 85.0]\n",
    "            .sort_values(by=[\"Urban population\"], ascending=False),\n",
    "            x=\"Country or territory\", y=\"Urban population\")"
   ]
  },
  {
   "cell_type": "code",
   "execution_count": null,
   "id": "6ce9eb63-be97-44d3-8128-762cb1d757bb",
   "metadata": {},
   "outputs": [],
   "source": []
  }
 ],
 "metadata": {
  "kernelspec": {
   "display_name": "Python 3 (ipykernel)",
   "language": "python",
   "name": "python3"
  },
  "language_info": {
   "codemirror_mode": {
    "name": "ipython",
    "version": 3
   },
   "file_extension": ".py",
   "mimetype": "text/x-python",
   "name": "python",
   "nbconvert_exporter": "python",
   "pygments_lexer": "ipython3",
   "version": "3.11.6"
  }
 },
 "nbformat": 4,
 "nbformat_minor": 5
}
